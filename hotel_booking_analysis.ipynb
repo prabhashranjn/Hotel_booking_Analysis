{
  "nbformat": 4,
  "nbformat_minor": 0,
  "metadata": {
    "colab": {
      "private_outputs": true,
      "provenance": []
    },
    "kernelspec": {
      "name": "python3",
      "display_name": "Python 3"
    },
    "language_info": {
      "name": "python"
    }
  },
  "cells": [
    {
      "cell_type": "code",
      "execution_count": null,
      "metadata": {
        "id": "YEhaP7F1dmrc"
      },
      "outputs": [],
      "source": [
        "from google.colab import drive\n",
        "\n",
        "drive.mount('/content/gdrive')"
      ]
    },
    {
      "cell_type": "code",
      "source": [
        "cd /content/gdrive/My Drive/Data_Analysisi(Hotel_Booking)"
      ],
      "metadata": {
        "id": "6rIHiGjveAzA"
      },
      "execution_count": null,
      "outputs": []
    },
    {
      "cell_type": "code",
      "source": [
        "import pandas as pd \n",
        "import matplotlib.pyplot as plt\n",
        "import seaborn as sns\n",
        "import warnings\n",
        "warnings.filterwarnings('ignore')"
      ],
      "metadata": {
        "id": "Az0rFKPce2N_"
      },
      "execution_count": null,
      "outputs": []
    },
    {
      "cell_type": "code",
      "source": [
        "df=pd.read_csv('hotel_booking.csv')"
      ],
      "metadata": {
        "id": "_BimJp5ifZgv"
      },
      "execution_count": null,
      "outputs": []
    },
    {
      "cell_type": "code",
      "source": [
        " df.head()"
      ],
      "metadata": {
        "id": "mOchzRe4fiC1"
      },
      "execution_count": null,
      "outputs": []
    },
    {
      "cell_type": "code",
      "source": [
        "df.shape"
      ],
      "metadata": {
        "id": "fHwxfF2fh_Qg"
      },
      "execution_count": null,
      "outputs": []
    },
    {
      "cell_type": "code",
      "source": [
        "df.info()"
      ],
      "metadata": {
        "id": "8gSNFUgeiGWV"
      },
      "execution_count": null,
      "outputs": []
    },
    {
      "cell_type": "code",
      "source": [
        "df.tail()"
      ],
      "metadata": {
        "id": "v3jeZw13iJGG"
      },
      "execution_count": null,
      "outputs": []
    },
    {
      "cell_type": "code",
      "source": [
        "# to change date type into date time formate\n",
        "df['reservation_status_date'] = pd.to_datetime(df['reservation_status_date'])"
      ],
      "metadata": {
        "id": "rpHb7-0L_zFA"
      },
      "execution_count": null,
      "outputs": []
    },
    {
      "cell_type": "code",
      "source": [
        "df.info()"
      ],
      "metadata": {
        "id": "hQts-BZ-B0Sn"
      },
      "execution_count": null,
      "outputs": []
    },
    {
      "cell_type": "code",
      "source": [
        "df.describe(include='object')"
      ],
      "metadata": {
        "id": "Sg20vrdqC8St"
      },
      "execution_count": null,
      "outputs": []
    },
    {
      "cell_type": "code",
      "source": [
        "for col in df.describe(include = 'object').columns:\n",
        "  print(col)\n",
        "  print(df[col].unique())\n",
        "  print('-'*50)"
      ],
      "metadata": {
        "id": "KPYCU1HiEHH7"
      },
      "execution_count": null,
      "outputs": []
    },
    {
      "cell_type": "code",
      "source": [
        "#  for checking missing value\n",
        "df.isnull().sum()"
      ],
      "metadata": {
        "id": "fBmwEjOyFCy-"
      },
      "execution_count": null,
      "outputs": []
    },
    {
      "cell_type": "code",
      "source": [
        "# the null value in company and agent is too much thats why we drop these columns\n",
        "df.drop(['company','agent'],axis=1,inplace=True)\n",
        "df.dropna(inplace=True)"
      ],
      "metadata": {
        "id": "aCPXgtQEFg5m"
      },
      "execution_count": null,
      "outputs": []
    },
    {
      "cell_type": "code",
      "source": [
        " df.isnull().sum()"
      ],
      "metadata": {
        "id": "uXCQgxGDGU-u"
      },
      "execution_count": null,
      "outputs": []
    },
    {
      "cell_type": "code",
      "source": [
        "df.describe()"
      ],
      "metadata": {
        "id": "CYstvRVKGc8k"
      },
      "execution_count": null,
      "outputs": []
    },
    {
      "cell_type": "code",
      "source": [
        "# to check outlier\n",
        "df['adr'].plot(kind='box')"
      ],
      "metadata": {
        "id": "xQZvoODHGkse"
      },
      "execution_count": null,
      "outputs": []
    },
    {
      "cell_type": "code",
      "source": [
        "# removing outlier\n",
        "df=df[df['adr']<5000]"
      ],
      "metadata": {
        "id": "4zIwMD-HG_G-"
      },
      "execution_count": null,
      "outputs": []
    },
    {
      "cell_type": "code",
      "source": [
        "#  data Analysis and Visuslization"
      ],
      "metadata": {
        "id": "gupclUdnHbVJ"
      },
      "execution_count": null,
      "outputs": []
    },
    {
      "cell_type": "code",
      "source": [
        "cancelled_perc=df['is_canceled'].value_counts(normalize = True)\n",
        "cancelled_perc"
      ],
      "metadata": {
        "id": "-KtecJFNHxcl"
      },
      "execution_count": null,
      "outputs": []
    },
    {
      "cell_type": "code",
      "source": [
        "plt.figure(figsize = (5,4))\n",
        "plt.title(\"Reservation status count\")\n",
        "plt.bar([\"Not canceled\",'Canceled'],df['is_canceled'].value_counts(),edgecolor = 'k',width=0.7)\n",
        "plt.show()"
      ],
      "metadata": {
        "id": "WjtOazN5JJX5"
      },
      "execution_count": null,
      "outputs": []
    },
    {
      "cell_type": "code",
      "source": [
        "plt.figure(figsize=(8,4))\n",
        "ax1=sns.countplot(x='hotel',hue='is_canceled',data=df,palette='Blues')\n",
        "legend_labels,_=ax1.get_legend_handles_labels()\n",
        "# ax1.legend(bbox_to_anchor(1,1))\n",
        "plt.title(\"Reservation status in different hotels\",size=20)\n",
        "plt.xlabel('hotel')\n",
        "plt.ylabel('number of reservation')\n",
        "plt.show()"
      ],
      "metadata": {
        "id": "su3KdWix4HDc"
      },
      "execution_count": null,
      "outputs": []
    },
    {
      "cell_type": "code",
      "source": [
        "resort_hotel=df[df['hotel']=='Resort Hotel']\n",
        "resort_hotel['is_canceled'].value_counts(normalize=True)"
      ],
      "metadata": {
        "id": "9qsUxs_u5fbY"
      },
      "execution_count": null,
      "outputs": []
    },
    {
      "cell_type": "code",
      "source": [
        "city_hotel=df[df['hotel']=='City Hotel']\n",
        "city_hotel['is_canceled'].value_counts(normalize=True)"
      ],
      "metadata": {
        "id": "OGd4L4Fc6Tj3"
      },
      "execution_count": null,
      "outputs": []
    },
    {
      "cell_type": "code",
      "source": [
        "resort_hotel=resort_hotel.groupby('reservation_status_date')[['adr']].mean()\n",
        "city_hotel=city_hotel.groupby('reservation_status_date')[['adr']].mean()\n"
      ],
      "metadata": {
        "id": "yYh-PI9g64k4"
      },
      "execution_count": null,
      "outputs": []
    },
    {
      "cell_type": "code",
      "source": [
        "plt.figure(figsize=(20,8))\n",
        "plt.title(\"Average daily Rate in City and Resort Hotel\",fontsize=30)\n",
        "plt.plot(resort_hotel.index,resort_hotel['adr'],label='resort Hotel')\n",
        "plt.plot(city_hotel.index,city_hotel['adr'],label='City Hotel')\n",
        "plt.legend(fontsize=20)\n",
        "plt.show()"
      ],
      "metadata": {
        "id": "aZWEgGg97Zh4"
      },
      "execution_count": null,
      "outputs": []
    },
    {
      "cell_type": "code",
      "source": [
        "df['month']=df['reservation_status_date'].dt.month\n",
        "# plt.figure(figuresize=(16,8))\n",
        "ax1=sns.countplot(x='month',hue='is_canceled',data=df,palette='bright')\n",
        "legend_labels,_=ax1.get_legend_handles_labels()\n",
        "# ax1.legend(bbox_anchor(1,1))\n",
        "plt.title(\"Reservation status per month\",size=20)\n",
        "plt.xlabel('month')\n",
        "plt.ylabel('number of reservation')\n",
        "plt.legend('not canceled','canceled')\n",
        "plt.show()\n"
      ],
      "metadata": {
        "id": "Na8PLyCR8NLB"
      },
      "execution_count": null,
      "outputs": []
    },
    {
      "cell_type": "code",
      "source": [
        "#  in this above plot cancele is low when booking rate is high\n",
        "# then we have to check the price of that month booking"
      ],
      "metadata": {
        "id": "zIaeQEK1_-h2"
      },
      "execution_count": null,
      "outputs": []
    },
    {
      "cell_type": "code",
      "source": [
        "plt.figure(figsize=(15,8))\n",
        "plt.title(\"ADR per month\",fontsize=30)\n",
        "sns.barplot('month','adr', data=df[df['is_canceled'] ==1 ].groupby('month')[['adr']].sum().reset_index())\n",
        "# plt.legend(fontsize=20)\n",
        "plt.show()"
      ],
      "metadata": {
        "id": "7qgSUJiUA9y2"
      },
      "execution_count": null,
      "outputs": []
    },
    {
      "cell_type": "code",
      "source": [
        "cancelled_data=df[df['is_canceled']==1]\n",
        "top_10_country=cancelled_data['country'].value_counts()[:10]\n",
        "plt.figure(figsize=(8,8))\n",
        "plt.title('Top 10 countries with reservation canceled')\n",
        "plt.pie(top_10_country,autopct='%.2f',labels=top_10_country.index)\n",
        "plt.show()"
      ],
      "metadata": {
        "id": "WczJjQv3B-X3"
      },
      "execution_count": null,
      "outputs": []
    },
    {
      "cell_type": "code",
      "source": [
        "df['market_segment'].value_counts()"
      ],
      "metadata": {
        "id": "WTULwCVnGRjU"
      },
      "execution_count": null,
      "outputs": []
    },
    {
      "cell_type": "code",
      "source": [
        "df['market_segment'].value_counts(normalize=True)\n"
      ],
      "metadata": {
        "id": "B19aFklOGrvt"
      },
      "execution_count": null,
      "outputs": []
    },
    {
      "cell_type": "code",
      "source": [
        "cancelled_data['market_segment'].value_counts(normalize=True)"
      ],
      "metadata": {
        "id": "yaA_xROjG7B7"
      },
      "execution_count": null,
      "outputs": []
    },
    {
      "cell_type": "code",
      "source": [
        "cancelled_df_adr=cancelled_data.groupby('reservation_status_date')[['adr']].mean()\n",
        "cancelled_df_adr.reset_index(inplace=True)\n",
        "cancelled_df_adr.sort_values('reservation_status_date',inplace=True)\n",
        "\n",
        "not_cancelled_date=df[df['is_canceled']==0]\n",
        "not_cancelled_df_adr=not_cancelled_date.groupby('reservation_status_date')[['adr']].mean()\n",
        "not_cancelled_df_adr.reset_index(inplace = True)\n",
        "not_cancelled_df_adr.sort_values('reservation_status_date',inplace=True)\n",
        "\n",
        "plt.figure(figsize=(20,6))\n",
        "plt.title('Average daily Rate')\n",
        "plt.plot(not_cancelled_df_adr['reservation_status_date'],not_cancelled_df_adr['adr'], label='not cancelled')\n",
        "plt.plot(cancelled_df_adr['reservation_status_date'],cancelled_df_adr['adr'],label='cancelled')\n",
        "plt.legend()\n",
        "plt.show()"
      ],
      "metadata": {
        "id": "3Q7OpsAiHLJc"
      },
      "execution_count": null,
      "outputs": []
    },
    {
      "cell_type": "code",
      "source": [
        "cancelled_df_adr=cancelled_df_adr[(cancelled_df_adr['reservation_status_date']>'2016')&(cancelled_df_adr['reservation_status_date']<'2017-09')]\n",
        "not_cancelled_df_adr=not_cancelled_df_adr[(not_cancelled_df_adr['reservation_status_date']>'2016')&(not_cancelled_df_adr['reservation_status_date']<'2017-09')]"
      ],
      "metadata": {
        "id": "s0a9BQwYKez4"
      },
      "execution_count": null,
      "outputs": []
    },
    {
      "cell_type": "code",
      "source": [
        "plt.figure(figsize=(20,6))\n",
        "plt.title('Average daily Rate',fontsize=25)\n",
        "plt.plot(not_cancelled_df_adr['reservation_status_date'],not_cancelled_df_adr['adr'], label='not cancelled')\n",
        "plt.plot(cancelled_df_adr['reservation_status_date'],cancelled_df_adr['adr'],label='cancelled')\n",
        "plt.legend()\n",
        "plt.show()"
      ],
      "metadata": {
        "id": "7udAfKq8LxBJ"
      },
      "execution_count": null,
      "outputs": []
    },
    {
      "cell_type": "code",
      "source": [],
      "metadata": {
        "id": "beTusuAGLyse"
      },
      "execution_count": null,
      "outputs": []
    }
  ]
}